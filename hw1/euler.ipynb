{
 "cells": [
  {
   "cell_type": "code",
   "execution_count": null,
   "metadata": {},
   "outputs": [],
   "source": [
    "# E14 - S19\n",
    "# Assignment 1\n",
    "# Hunter Lee\n",
    "\n",
    "# Problem 1\n",
    "\n",
    "def findSumOfMultiple(factor, number):\n",
    "    point = 0\n",
    "    total = 0\n",
    "    while (point < number):\n",
    "        total += point\n",
    "        point += factor\n",
    "    return total\n",
    "\n",
    "threes = findSumOfMultiple(3, 1000)\n",
    "fives = findSumOfMultiple(5, 1000)\n",
    "fifteens = findSumOfMultiple(15, 1000)\n",
    "\n",
    "print('The answer to problem 1 is ')\n",
    "\n",
    "# Problem 2\n",
    "\n",
    "a = 1\n",
    "b = 2\n",
    "evens = 0\n",
    "while (b < 4e6):\n",
    "    if (b % 2 == 0):\n",
    "        evens += b\n",
    "    a = b\n",
    "    b += a\n",
    "\n",
    "print('The answer to problem 2 is ')\n",
    "\n",
    "# Problem 4\n",
    "\n"
   ]
  }
 ],
 "metadata": {
  "kernelspec": {
   "display_name": "Python 3",
   "language": "python",
   "name": "python3"
  },
  "language_info": {
   "codemirror_mode": {
    "name": "ipython",
    "version": 3
   },
   "file_extension": ".py",
   "mimetype": "text/x-python",
   "name": "python",
   "nbconvert_exporter": "python",
   "pygments_lexer": "ipython3",
   "version": "3.6.7"
  }
 },
 "nbformat": 4,
 "nbformat_minor": 2
}
