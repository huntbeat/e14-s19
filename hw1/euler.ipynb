{
 "cells": [
  {
   "cell_type": "code",
   "execution_count": 22,
   "metadata": {},
   "outputs": [],
   "source": [
    "# E14 - S19\n",
    "# Assignment 1\n",
    "# 01/23/2019\n",
    "# Hunter Lee\n"
   ]
  },
  {
   "cell_type": "code",
   "execution_count": 23,
   "metadata": {},
   "outputs": [
    {
     "name": "stdout",
     "output_type": "stream",
     "text": [
      "The answer to problem 1 is 233168\n"
     ]
    }
   ],
   "source": [
    "# Problem 1\n",
    "\n",
    "def findSumOfMultiple(factor, number):\n",
    "    point = 0\n",
    "    total = 0\n",
    "    while (point < number):\n",
    "        total += point\n",
    "        point += factor\n",
    "    return total\n",
    "\n",
    "threes = findSumOfMultiple(3, 1000)\n",
    "fives = findSumOfMultiple(5, 1000)\n",
    "fifteens = findSumOfMultiple(15, 1000)\n",
    "\n",
    "print('The answer to problem 1 is {}'.format(threes+fives-fifteens))"
   ]
  },
  {
   "cell_type": "code",
   "execution_count": 29,
   "metadata": {},
   "outputs": [
    {
     "name": "stdout",
     "output_type": "stream",
     "text": [
      "The answer to problem 2 is 4613732\n"
     ]
    }
   ],
   "source": [
    "# Problem 2\n",
    "\n",
    "a = 0\n",
    "b = 1\n",
    "evens = 0\n",
    "\n",
    "while (b < 4000000):\n",
    "    if (b % 2 == 0):\n",
    "        evens += b\n",
    "    a, b = b, a + b\n",
    "\n",
    "print('The answer to problem 2 is {}'.format(evens))"
   ]
  },
  {
   "cell_type": "code",
   "execution_count": 25,
   "metadata": {},
   "outputs": [
    {
     "name": "stdout",
     "output_type": "stream",
     "text": [
      "The answer to problem 4 is 906609\n"
     ]
    }
   ],
   "source": [
    "# Problem 4\n",
    "\n",
    "biggest = 0\n",
    "first = 100\n",
    "second = 100\n",
    "limit = 1000\n",
    "\n",
    "def checkP(product, biggest):\n",
    "    string_p = str(product)\n",
    "    rstring_p = string_p[::-1]\n",
    "    if (string_p == rstring_p and product > biggest):\n",
    "        return True\n",
    "    else:\n",
    "        return False\n",
    "\n",
    "while (first < limit):\n",
    "    while (second < limit):\n",
    "        product = first * second\n",
    "        if (checkP(product, biggest)):\n",
    "            biggest = product\n",
    "        second += 1\n",
    "    first += 1\n",
    "    second = 10\n",
    "\n",
    "print('The answer to problem 4 is {}'.format(biggest))"
   ]
  }
 ],
 "metadata": {
  "kernelspec": {
   "display_name": "Python 3",
   "language": "python",
   "name": "python3"
  },
  "language_info": {
   "codemirror_mode": {
    "name": "ipython",
    "version": 3
   },
   "file_extension": ".py",
   "mimetype": "text/x-python",
   "name": "python",
   "nbconvert_exporter": "python",
   "pygments_lexer": "ipython3",
   "version": "3.6.7"
  }
 },
 "nbformat": 4,
 "nbformat_minor": 2
}
